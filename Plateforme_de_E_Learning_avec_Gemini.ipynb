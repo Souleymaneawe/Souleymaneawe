{
  "nbformat": 4,
  "nbformat_minor": 0,
  "metadata": {
    "colab": {
      "provenance": [],
      "authorship_tag": "ABX9TyPy6vaKWhjcBcLSBd7V/xkK",
      "include_colab_link": true
    },
    "kernelspec": {
      "name": "python3",
      "display_name": "Python 3"
    },
    "language_info": {
      "name": "python"
    }
  },
  "cells": [
    {
      "cell_type": "markdown",
      "metadata": {
        "id": "view-in-github",
        "colab_type": "text"
      },
      "source": [
        "<a href=\"https://colab.research.google.com/github/Souleymaneawe/Souleymaneawe/blob/main/Plateforme_de_E_Learning_avec_Gemini.ipynb\" target=\"_parent\"><img src=\"https://colab.research.google.com/assets/colab-badge.svg\" alt=\"Open In Colab\"/></a>"
      ]
    },
    {
      "cell_type": "code",
      "execution_count": 1,
      "metadata": {
        "id": "8-iRr31aKWWZ"
      },
      "outputs": [],
      "source": [
        "import gradio as gr\n",
        "import requests\n",
        "import json\n",
        "import os\n"
      ]
    },
    {
      "cell_type": "code",
      "source": [
        "# Configuration de l'API Gemini (remplacez par vos informations d'API réelles)\n",
        "GEMINI_API_URL = \"https://generativelanguage.googleapis.com/v1beta/models/gemini-1.5-flash:generateContent\"  # URL de l'API Gemini\n",
        "# Import userdata to securely store your API key\n",
        "from google.colab import userdata\n",
        "GEMINI_API_KEY = userdata.get(\"GEMINI_API_KEY\")  # Get the API key from Colab's Secrets Manager\n",
        "\n",
        "# Charger les données des cours à partir du fichier JSON\n",
        "def load_courses():\n",
        "    try:\n",
        "        with open(\"courses.json\", \"r\") as file:\n",
        "            return json.load(file)\n",
        "    except FileNotFoundError:\n",
        "        return {\n",
        "            \"courses\": [\n",
        "                {\"name\": \"Python pour Débutants\", \"description\": \"Apprenez les bases de la programmation Python.\"},\n",
        "                {\"name\": \"Mathématiques Avancées\", \"description\": \"Explorez les concepts avancés en algèbre et calcul.\"},\n",
        "                {\"name\": \"Histoire Moderne\", \"description\": \"Découvrez les événements clés du 20e siècle.\"}\n",
        "            ]\n",
        "        }\n",
        "\n",
        "# Fonction pour appeler l'API Gemini\n",
        "def get_gemini_response(prompt):\n",
        "    headers = {\n",
        "        \"Content-Type\": \"application/json\"\n",
        "    }\n",
        "    data = {\n",
        "        \"contents\": [{\"parts\": [{\"text\": prompt}]}]\n",
        "    }\n",
        "    try:\n",
        "        response = requests.post(f\"{GEMINI_API_URL}?key={GEMINI_API_KEY}\", headers=headers, json=data)\n",
        "        response.raise_for_status()\n",
        "        result = response.json()\n",
        "        return result.get(\"candidates\", [{}])[0].get(\"content\", {}).get(\"parts\", [{}])[0].get(\"text\", \"Erreur de réponse de l'API\")\n",
        "    except requests.exceptions.RequestException as e:\n",
        "        return f\"Erreur API : {str(e)}\"\n",
        "\n",
        "# Fonction pour la recommandation de contenu\n",
        "def get_recommendation(course):\n",
        "    prompt = f\"Recommande une leçon pour un étudiant suivant le cours {course}.\"\n",
        "    return get_gemini_response(prompt)\n",
        "\n",
        "# Fonction pour le quiz\n",
        "def check_quiz_answer(course, question, answer):\n",
        "    prompt = f\"Vérifie si la réponse '{answer}' est correcte pour la question '{question}' dans le cours {course}.\"\n",
        "    return get_gemini_response(prompt)\n",
        "\n",
        "# Interface Gradio\n",
        "with gr.Blocks(title=\"Plateforme de E-Learning avec Gemini\") as app:\n",
        "    gr.Markdown(\"# Plateforme de E-Learning avec Gemini\")\n",
        "\n",
        "    # Charger les cours\n",
        "    courses_data = load_courses()\n",
        "    course_names = [course[\"name\"] for course in courses_data[\"courses\"]]\n",
        "\n",
        "    # Section pour les cours\n",
        "    gr.Markdown(\"## Cours Disponibles\")\n",
        "    course = gr.Dropdown(choices=course_names, label=\"Choisissez un cours\")\n",
        "    course_description = gr.Textbox(label=\"Description du cours\", interactive=False)\n",
        "\n",
        "    # Mettre à jour la description du cours sélectionné\n",
        "    def update_course_description(selected_course):\n",
        "        for course_data in courses_data[\"courses\"]:\n",
        "            if course_data[\"name\"] == selected_course:\n",
        "                return course_data[\"description\"]\n",
        "        return \"Cours non trouvé.\"\n",
        "\n",
        "    course.change(fn=update_course_description, inputs=course, outputs=course_description)\n",
        "\n",
        "    # Recommandation de contenu\n",
        "    gr.Markdown(\"## Recommandation de Contenu\")\n",
        "    recommend_button = gr.Button(\"Obtenir une Recommandation\")\n",
        "    recommendation_output = gr.Textbox(label=\"Recommandation\")\n",
        "    recommend_button.click(fn=get_recommendation, inputs=course, outputs=recommendation_output)\n",
        "\n",
        "    # Quiz interactif\n",
        "    gr.Markdown(\"## Quiz\")\n",
        "    question = gr.Textbox(label=\"Posez une question\")\n",
        "    answer = gr.Textbox(label=\"Votre réponse\")\n",
        "    quiz_button = gr.Button(\"Vérifier la Réponse\")\n",
        "    quiz_output = gr.Textbox(label=\"Résultat\")\n",
        "    quiz_button.click(fn=check_quiz_answer, inputs=[course, question, answer], outputs=quiz_output)"
      ],
      "metadata": {
        "id": "GpyaAHbtKwQY"
      },
      "execution_count": 6,
      "outputs": []
    },
    {
      "cell_type": "code",
      "source": [
        "app.launch(share=True)"
      ],
      "metadata": {
        "colab": {
          "base_uri": "https://localhost:8080/",
          "height": 611
        },
        "id": "9NQf9H1BSS9J",
        "outputId": "33affb78-71de-475b-c948-7eec940cde13"
      },
      "execution_count": 5,
      "outputs": [
        {
          "output_type": "stream",
          "name": "stdout",
          "text": [
            "Colab notebook detected. To show errors in colab notebook, set debug=True in launch()\n",
            "* Running on public URL: https://b85dc0bc54e5a1183e.gradio.live\n",
            "\n",
            "This share link expires in 1 week. For free permanent hosting and GPU upgrades, run `gradio deploy` from the terminal in the working directory to deploy to Hugging Face Spaces (https://huggingface.co/spaces)\n"
          ]
        },
        {
          "output_type": "display_data",
          "data": {
            "text/plain": [
              "<IPython.core.display.HTML object>"
            ],
            "text/html": [
              "<div><iframe src=\"https://b85dc0bc54e5a1183e.gradio.live\" width=\"100%\" height=\"500\" allow=\"autoplay; camera; microphone; clipboard-read; clipboard-write;\" frameborder=\"0\" allowfullscreen></iframe></div>"
            ]
          },
          "metadata": {}
        },
        {
          "output_type": "execute_result",
          "data": {
            "text/plain": []
          },
          "metadata": {},
          "execution_count": 5
        }
      ]
    }
  ]
}