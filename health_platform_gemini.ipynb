{
  "nbformat": 4,
  "nbformat_minor": 0,
  "metadata": {
    "colab": {
      "provenance": [],
      "authorship_tag": "ABX9TyMjSg5Kzyg9z2n6nzL2nuXn",
      "include_colab_link": true
    },
    "kernelspec": {
      "name": "python3",
      "display_name": "Python 3"
    },
    "language_info": {
      "name": "python"
    }
  },
  "cells": [
    {
      "cell_type": "markdown",
      "metadata": {
        "id": "view-in-github",
        "colab_type": "text"
      },
      "source": [
        "<a href=\"https://colab.research.google.com/github/Souleymaneawe/Souleymaneawe/blob/main/health_platform_gemini.ipynb\" target=\"_parent\"><img src=\"https://colab.research.google.com/assets/colab-badge.svg\" alt=\"Open In Colab\"/></a>"
      ]
    },
    {
      "cell_type": "code",
      "execution_count": 1,
      "metadata": {
        "id": "rd7qW4NmriHS"
      },
      "outputs": [],
      "source": [
        "import gradio as gr\n",
        "import requests\n",
        "import json\n",
        "from google.colab import userdata"
      ]
    },
    {
      "cell_type": "code",
      "source": [
        "# Récupérer la clé API Gemini depuis les Secrets de Colab\n",
        "try:\n",
        "    GEMINI_API_KEY = userdata.get('GEMINI_API_KEY')\n",
        "except userdata.SecretNotFoundError:\n",
        "    GEMINI_API_KEY = None\n",
        "    print(\"Erreur : Clé API Gemini non trouvée. Ajoutez 'GEMINI_API_KEY' dans les Secrets de Colab.\")\n",
        "\n",
        "# Configuration de l'API Gemini\n",
        "GEMINI_API_URL = \"https://generativelanguage.googleapis.com/v1beta/models/gemini-1.5-flash:generateContent\"\n",
        "\n",
        "# Charger les données des catégories santé à partir du fichier JSON\n",
        "def load_health_categories():\n",
        "    try:\n",
        "        with open(\"health_categories.json\", \"r\") as file:\n",
        "            return json.load(file)\n",
        "    except FileNotFoundError:\n",
        "        return {\n",
        "            \"categories\": [\n",
        "                {\"name\": \"Alimentation\", \"description\": \"Conseils pour une alimentation saine et équilibrée.\"},\n",
        "                {\"name\": \"Exercice Physique\", \"description\": \"Recommandations pour l'activité physique et le fitness.\"},\n",
        "                {\"name\": \"Bien-être Mental\", \"description\": \"Stratégies pour gérer le stress et améliorer la santé mentale.\"}\n",
        "            ]\n",
        "        }\n",
        "\n",
        "# Fonction pour appeler l'API Gemini\n",
        "def get_gemini_response(prompt):\n",
        "    if not GEMINI_API_KEY:\n",
        "        return \"Erreur : Clé API Gemini manquante.\"\n",
        "    headers = {\n",
        "        \"Content-Type\": \"application/json\"\n",
        "    }\n",
        "    data = {\n",
        "        \"contents\": [{\"parts\": [{\"text\": prompt}]}]\n",
        "    }\n",
        "    try:\n",
        "        response = requests.post(f\"{GEMINI_API_URL}?key={GEMINI_API_KEY}\", headers=headers, json=data)\n",
        "        response.raise_for_status()\n",
        "        result = response.json()\n",
        "        return result.get(\"candidates\", [{}])[0].get(\"content\", {}).get(\"parts\", [{}])[0].get(\"text\", \"Erreur de réponse de l'API\")\n",
        "    except requests.exceptions.RequestException as e:\n",
        "        return f\"Erreur API : {str(e)}\"\n",
        "\n",
        "# Fonction pour les recommandations santé\n",
        "def get_health_recommendation(category, user_input):\n",
        "    prompt = f\"Donne une recommandation personnalisée pour la catégorie {category}. Contexte de l'utilisateur : {user_input}.\"\n",
        "    return get_gemini_response(prompt)\n",
        "\n",
        "# Fonction pour répondre aux questions santé\n",
        "def answer_health_question(question):\n",
        "    prompt = f\"Réponds à cette question sur la santé : {question}. Fournis une réponse concise et utile.\"\n",
        "    return get_gemini_response(prompt)\n",
        "\n",
        "# Interface Gradio\n",
        "with gr.Blocks(title=\"Plateforme de Suivi de la Santé avec Gemini\") as app:\n",
        "    gr.Markdown(\"# Plateforme de Suivi de la Santé avec Gemini\")\n",
        "\n",
        "    # Charger les catégories santé\n",
        "    health_data = load_health_categories()\n",
        "    category_names = [category[\"name\"] for category in health_data[\"categories\"]]\n",
        "\n",
        "    # Section pour les catégories santé\n",
        "    gr.Markdown(\"## Catégories Santé\")\n",
        "    category = gr.Dropdown(choices=category_names, label=\"Choisissez une catégorie\")\n",
        "    category_description = gr.Textbox(label=\"Description de la catégorie\", interactive=False)\n",
        "\n",
        "    # Mettre à jour la description de la catégorie sélectionnée\n",
        "    def update_category_description(selected_category):\n",
        "        for category_data in health_data[\"categories\"]:\n",
        "            if category_data[\"name\"] == selected_category:\n",
        "                return category_data[\"description\"]\n",
        "        return \"Catégorie non trouvée.\"\n",
        "\n",
        "    category.change(fn=update_category_description, inputs=category, outputs=category_description)\n",
        "\n",
        "    # Recommandation santé\n",
        "    gr.Markdown(\"## Recommandation Personnalisée\")\n",
        "    user_input = gr.Textbox(label=\"Décrivez votre situation (ex. mode de vie, objectifs)\")\n",
        "    recommend_button = gr.Button(\"Obtenir une Recommandation\")\n",
        "    recommendation_output = gr.Textbox(label=\"Recommandation\")\n",
        "    recommend_button.click(fn=get_health_recommendation, inputs=[category, user_input], outputs=recommendation_output)\n",
        "\n",
        "    # Questions santé\n",
        "    gr.Markdown(\"## Posez une Question Santé\")\n",
        "    question = gr.Textbox(label=\"Votre question\")\n",
        "    question_button = gr.Button(\"Obtenir une Réponse\")\n",
        "    question_output = gr.Textbox(label=\"Réponse\")\n",
        "    question_button.click(fn=answer_health_question, inputs=question, outputs=question_output)"
      ],
      "metadata": {
        "id": "XvkrfHgwsNe1"
      },
      "execution_count": 2,
      "outputs": []
    },
    {
      "cell_type": "code",
      "source": [
        "# Exécutez l'application Gradio avec share=True\n",
        "app.launch(share=True)"
      ],
      "metadata": {
        "colab": {
          "base_uri": "https://localhost:8080/",
          "height": 611
        },
        "id": "W-Zabn3MsitL",
        "outputId": "765e7545-ede2-416c-a4af-17490ef413d5"
      },
      "execution_count": 5,
      "outputs": [
        {
          "output_type": "stream",
          "name": "stdout",
          "text": [
            "Colab notebook detected. To show errors in colab notebook, set debug=True in launch()\n",
            "* Running on public URL: https://288ecfe4c5a44aa678.gradio.live\n",
            "\n",
            "This share link expires in 1 week. For free permanent hosting and GPU upgrades, run `gradio deploy` from the terminal in the working directory to deploy to Hugging Face Spaces (https://huggingface.co/spaces)\n"
          ]
        },
        {
          "output_type": "display_data",
          "data": {
            "text/plain": [
              "<IPython.core.display.HTML object>"
            ],
            "text/html": [
              "<div><iframe src=\"https://288ecfe4c5a44aa678.gradio.live\" width=\"100%\" height=\"500\" allow=\"autoplay; camera; microphone; clipboard-read; clipboard-write;\" frameborder=\"0\" allowfullscreen></iframe></div>"
            ]
          },
          "metadata": {}
        },
        {
          "output_type": "execute_result",
          "data": {
            "text/plain": []
          },
          "metadata": {},
          "execution_count": 5
        }
      ]
    }
  ]
}