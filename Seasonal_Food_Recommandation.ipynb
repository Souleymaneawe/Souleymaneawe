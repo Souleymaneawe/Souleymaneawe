{
  "nbformat": 4,
  "nbformat_minor": 0,
  "metadata": {
    "colab": {
      "provenance": [],
      "authorship_tag": "ABX9TyMjNHXmNtrguZLAb5FgX8g2",
      "include_colab_link": true
    },
    "kernelspec": {
      "name": "python3",
      "display_name": "Python 3"
    },
    "language_info": {
      "name": "python"
    }
  },
  "cells": [
    {
      "cell_type": "markdown",
      "metadata": {
        "id": "view-in-github",
        "colab_type": "text"
      },
      "source": [
        "<a href=\"https://colab.research.google.com/github/Souleymaneawe/Souleymaneawe/blob/main/Seasonal_Food_Recommandation.ipynb\" target=\"_parent\"><img src=\"https://colab.research.google.com/assets/colab-badge.svg\" alt=\"Open In Colab\"/></a>"
      ]
    },
    {
      "cell_type": "code",
      "execution_count": 1,
      "metadata": {
        "colab": {
          "base_uri": "https://localhost:8080/"
        },
        "id": "lVSdvFBR9_-A",
        "outputId": "9062871f-c656-44cd-e73d-8f213c7f9361"
      },
      "outputs": [
        {
          "output_type": "stream",
          "name": "stdout",
          "text": [
            "Requirement already satisfied: gradio in /usr/local/lib/python3.11/dist-packages (5.31.0)\n",
            "Requirement already satisfied: google-generativeai in /usr/local/lib/python3.11/dist-packages (0.8.5)\n",
            "Requirement already satisfied: firebase-admin in /usr/local/lib/python3.11/dist-packages (6.9.0)\n",
            "Requirement already satisfied: aiofiles<25.0,>=22.0 in /usr/local/lib/python3.11/dist-packages (from gradio) (24.1.0)\n",
            "Requirement already satisfied: anyio<5.0,>=3.0 in /usr/local/lib/python3.11/dist-packages (from gradio) (4.9.0)\n",
            "Requirement already satisfied: fastapi<1.0,>=0.115.2 in /usr/local/lib/python3.11/dist-packages (from gradio) (0.116.1)\n",
            "Requirement already satisfied: ffmpy in /usr/local/lib/python3.11/dist-packages (from gradio) (0.6.0)\n",
            "Requirement already satisfied: gradio-client==1.10.1 in /usr/local/lib/python3.11/dist-packages (from gradio) (1.10.1)\n",
            "Requirement already satisfied: groovy~=0.1 in /usr/local/lib/python3.11/dist-packages (from gradio) (0.1.2)\n",
            "Requirement already satisfied: httpx>=0.24.1 in /usr/local/lib/python3.11/dist-packages (from gradio) (0.28.1)\n",
            "Requirement already satisfied: huggingface-hub>=0.28.1 in /usr/local/lib/python3.11/dist-packages (from gradio) (0.33.4)\n",
            "Requirement already satisfied: jinja2<4.0 in /usr/local/lib/python3.11/dist-packages (from gradio) (3.1.6)\n",
            "Requirement already satisfied: markupsafe<4.0,>=2.0 in /usr/local/lib/python3.11/dist-packages (from gradio) (3.0.2)\n",
            "Requirement already satisfied: numpy<3.0,>=1.0 in /usr/local/lib/python3.11/dist-packages (from gradio) (2.0.2)\n",
            "Requirement already satisfied: orjson~=3.0 in /usr/local/lib/python3.11/dist-packages (from gradio) (3.11.0)\n",
            "Requirement already satisfied: packaging in /usr/local/lib/python3.11/dist-packages (from gradio) (25.0)\n",
            "Requirement already satisfied: pandas<3.0,>=1.0 in /usr/local/lib/python3.11/dist-packages (from gradio) (2.2.2)\n",
            "Requirement already satisfied: pillow<12.0,>=8.0 in /usr/local/lib/python3.11/dist-packages (from gradio) (11.2.1)\n",
            "Requirement already satisfied: pydantic<2.12,>=2.0 in /usr/local/lib/python3.11/dist-packages (from gradio) (2.11.7)\n",
            "Requirement already satisfied: pydub in /usr/local/lib/python3.11/dist-packages (from gradio) (0.25.1)\n",
            "Requirement already satisfied: python-multipart>=0.0.18 in /usr/local/lib/python3.11/dist-packages (from gradio) (0.0.20)\n",
            "Requirement already satisfied: pyyaml<7.0,>=5.0 in /usr/local/lib/python3.11/dist-packages (from gradio) (6.0.2)\n",
            "Requirement already satisfied: ruff>=0.9.3 in /usr/local/lib/python3.11/dist-packages (from gradio) (0.12.3)\n",
            "Requirement already satisfied: safehttpx<0.2.0,>=0.1.6 in /usr/local/lib/python3.11/dist-packages (from gradio) (0.1.6)\n",
            "Requirement already satisfied: semantic-version~=2.0 in /usr/local/lib/python3.11/dist-packages (from gradio) (2.10.0)\n",
            "Requirement already satisfied: starlette<1.0,>=0.40.0 in /usr/local/lib/python3.11/dist-packages (from gradio) (0.47.1)\n",
            "Requirement already satisfied: tomlkit<0.14.0,>=0.12.0 in /usr/local/lib/python3.11/dist-packages (from gradio) (0.13.3)\n",
            "Requirement already satisfied: typer<1.0,>=0.12 in /usr/local/lib/python3.11/dist-packages (from gradio) (0.16.0)\n",
            "Requirement already satisfied: typing-extensions~=4.0 in /usr/local/lib/python3.11/dist-packages (from gradio) (4.14.1)\n",
            "Requirement already satisfied: uvicorn>=0.14.0 in /usr/local/lib/python3.11/dist-packages (from gradio) (0.35.0)\n",
            "Requirement already satisfied: fsspec in /usr/local/lib/python3.11/dist-packages (from gradio-client==1.10.1->gradio) (2025.3.2)\n",
            "Requirement already satisfied: websockets<16.0,>=10.0 in /usr/local/lib/python3.11/dist-packages (from gradio-client==1.10.1->gradio) (15.0.1)\n",
            "Requirement already satisfied: google-ai-generativelanguage==0.6.15 in /usr/local/lib/python3.11/dist-packages (from google-generativeai) (0.6.15)\n",
            "Requirement already satisfied: google-api-core in /usr/local/lib/python3.11/dist-packages (from google-generativeai) (2.25.1)\n",
            "Requirement already satisfied: google-api-python-client in /usr/local/lib/python3.11/dist-packages (from google-generativeai) (2.176.0)\n",
            "Requirement already satisfied: google-auth>=2.15.0 in /usr/local/lib/python3.11/dist-packages (from google-generativeai) (2.38.0)\n",
            "Requirement already satisfied: protobuf in /usr/local/lib/python3.11/dist-packages (from google-generativeai) (5.29.5)\n",
            "Requirement already satisfied: tqdm in /usr/local/lib/python3.11/dist-packages (from google-generativeai) (4.67.1)\n",
            "Requirement already satisfied: proto-plus<2.0.0dev,>=1.22.3 in /usr/local/lib/python3.11/dist-packages (from google-ai-generativelanguage==0.6.15->google-generativeai) (1.26.1)\n",
            "Requirement already satisfied: cachecontrol>=0.12.14 in /usr/local/lib/python3.11/dist-packages (from firebase-admin) (0.14.3)\n",
            "Requirement already satisfied: google-cloud-storage>=1.37.1 in /usr/local/lib/python3.11/dist-packages (from firebase-admin) (2.19.0)\n",
            "Requirement already satisfied: pyjwt>=2.5.0 in /usr/local/lib/python3.11/dist-packages (from pyjwt[crypto]>=2.5.0->firebase-admin) (2.10.1)\n",
            "Requirement already satisfied: google-cloud-firestore>=2.19.0 in /usr/local/lib/python3.11/dist-packages (from firebase-admin) (2.21.0)\n",
            "Requirement already satisfied: certifi in /usr/local/lib/python3.11/dist-packages (from httpx>=0.24.1->gradio) (2025.7.14)\n",
            "Requirement already satisfied: httpcore==1.* in /usr/local/lib/python3.11/dist-packages (from httpx>=0.24.1->gradio) (1.0.9)\n",
            "Requirement already satisfied: idna in /usr/local/lib/python3.11/dist-packages (from httpx>=0.24.1->gradio) (3.10)\n",
            "Requirement already satisfied: h2<5,>=3 in /usr/local/lib/python3.11/dist-packages (from httpx[http2]==0.28.1->firebase-admin) (4.2.0)\n",
            "Requirement already satisfied: h11>=0.16 in /usr/local/lib/python3.11/dist-packages (from httpcore==1.*->httpx>=0.24.1->gradio) (0.16.0)\n",
            "Requirement already satisfied: sniffio>=1.1 in /usr/local/lib/python3.11/dist-packages (from anyio<5.0,>=3.0->gradio) (1.3.1)\n",
            "Requirement already satisfied: requests>=2.16.0 in /usr/local/lib/python3.11/dist-packages (from cachecontrol>=0.12.14->firebase-admin) (2.32.3)\n",
            "Requirement already satisfied: msgpack<2.0.0,>=0.5.2 in /usr/local/lib/python3.11/dist-packages (from cachecontrol>=0.12.14->firebase-admin) (1.1.1)\n",
            "Requirement already satisfied: googleapis-common-protos<2.0.0,>=1.56.2 in /usr/local/lib/python3.11/dist-packages (from google-api-core->google-generativeai) (1.70.0)\n",
            "Requirement already satisfied: grpcio<2.0.0,>=1.33.2 in /usr/local/lib/python3.11/dist-packages (from google-api-core[grpc]!=2.0.*,!=2.1.*,!=2.10.*,!=2.2.*,!=2.3.*,!=2.4.*,!=2.5.*,!=2.6.*,!=2.7.*,!=2.8.*,!=2.9.*,<3.0.0dev,>=1.34.1->google-ai-generativelanguage==0.6.15->google-generativeai) (1.73.1)\n",
            "Requirement already satisfied: grpcio-status<2.0.0,>=1.33.2 in /usr/local/lib/python3.11/dist-packages (from google-api-core[grpc]!=2.0.*,!=2.1.*,!=2.10.*,!=2.2.*,!=2.3.*,!=2.4.*,!=2.5.*,!=2.6.*,!=2.7.*,!=2.8.*,!=2.9.*,<3.0.0dev,>=1.34.1->google-ai-generativelanguage==0.6.15->google-generativeai) (1.71.2)\n",
            "Requirement already satisfied: httplib2<1.0.0,>=0.19.0 in /usr/local/lib/python3.11/dist-packages (from google-api-python-client->google-generativeai) (0.22.0)\n",
            "Requirement already satisfied: google-auth-httplib2<1.0.0,>=0.2.0 in /usr/local/lib/python3.11/dist-packages (from google-api-python-client->google-generativeai) (0.2.0)\n",
            "Requirement already satisfied: uritemplate<5,>=3.0.1 in /usr/local/lib/python3.11/dist-packages (from google-api-python-client->google-generativeai) (4.2.0)\n",
            "Requirement already satisfied: cachetools<6.0,>=2.0.0 in /usr/local/lib/python3.11/dist-packages (from google-auth>=2.15.0->google-generativeai) (5.5.2)\n",
            "Requirement already satisfied: pyasn1-modules>=0.2.1 in /usr/local/lib/python3.11/dist-packages (from google-auth>=2.15.0->google-generativeai) (0.4.2)\n",
            "Requirement already satisfied: rsa<5,>=3.1.4 in /usr/local/lib/python3.11/dist-packages (from google-auth>=2.15.0->google-generativeai) (4.9.1)\n",
            "Requirement already satisfied: google-cloud-core<3.0.0,>=1.4.1 in /usr/local/lib/python3.11/dist-packages (from google-cloud-firestore>=2.19.0->firebase-admin) (2.4.3)\n",
            "Requirement already satisfied: google-resumable-media>=2.7.2 in /usr/local/lib/python3.11/dist-packages (from google-cloud-storage>=1.37.1->firebase-admin) (2.7.2)\n",
            "Requirement already satisfied: google-crc32c<2.0dev,>=1.0 in /usr/local/lib/python3.11/dist-packages (from google-cloud-storage>=1.37.1->firebase-admin) (1.7.1)\n",
            "Requirement already satisfied: filelock in /usr/local/lib/python3.11/dist-packages (from huggingface-hub>=0.28.1->gradio) (3.18.0)\n",
            "Requirement already satisfied: hf-xet<2.0.0,>=1.1.2 in /usr/local/lib/python3.11/dist-packages (from huggingface-hub>=0.28.1->gradio) (1.1.5)\n",
            "Requirement already satisfied: python-dateutil>=2.8.2 in /usr/local/lib/python3.11/dist-packages (from pandas<3.0,>=1.0->gradio) (2.9.0.post0)\n",
            "Requirement already satisfied: pytz>=2020.1 in /usr/local/lib/python3.11/dist-packages (from pandas<3.0,>=1.0->gradio) (2025.2)\n",
            "Requirement already satisfied: tzdata>=2022.7 in /usr/local/lib/python3.11/dist-packages (from pandas<3.0,>=1.0->gradio) (2025.2)\n",
            "Requirement already satisfied: annotated-types>=0.6.0 in /usr/local/lib/python3.11/dist-packages (from pydantic<2.12,>=2.0->gradio) (0.7.0)\n",
            "Requirement already satisfied: pydantic-core==2.33.2 in /usr/local/lib/python3.11/dist-packages (from pydantic<2.12,>=2.0->gradio) (2.33.2)\n",
            "Requirement already satisfied: typing-inspection>=0.4.0 in /usr/local/lib/python3.11/dist-packages (from pydantic<2.12,>=2.0->gradio) (0.4.1)\n",
            "Requirement already satisfied: cryptography>=3.4.0 in /usr/local/lib/python3.11/dist-packages (from pyjwt[crypto]>=2.5.0->firebase-admin) (43.0.3)\n",
            "Requirement already satisfied: click>=8.0.0 in /usr/local/lib/python3.11/dist-packages (from typer<1.0,>=0.12->gradio) (8.2.1)\n",
            "Requirement already satisfied: shellingham>=1.3.0 in /usr/local/lib/python3.11/dist-packages (from typer<1.0,>=0.12->gradio) (1.5.4)\n",
            "Requirement already satisfied: rich>=10.11.0 in /usr/local/lib/python3.11/dist-packages (from typer<1.0,>=0.12->gradio) (13.9.4)\n",
            "Requirement already satisfied: cffi>=1.12 in /usr/local/lib/python3.11/dist-packages (from cryptography>=3.4.0->pyjwt[crypto]>=2.5.0->firebase-admin) (1.17.1)\n",
            "Requirement already satisfied: hyperframe<7,>=6.1 in /usr/local/lib/python3.11/dist-packages (from h2<5,>=3->httpx[http2]==0.28.1->firebase-admin) (6.1.0)\n",
            "Requirement already satisfied: hpack<5,>=4.1 in /usr/local/lib/python3.11/dist-packages (from h2<5,>=3->httpx[http2]==0.28.1->firebase-admin) (4.1.0)\n",
            "Requirement already satisfied: pyparsing!=3.0.0,!=3.0.1,!=3.0.2,!=3.0.3,<4,>=2.4.2 in /usr/local/lib/python3.11/dist-packages (from httplib2<1.0.0,>=0.19.0->google-api-python-client->google-generativeai) (3.2.3)\n",
            "Requirement already satisfied: pyasn1<0.7.0,>=0.6.1 in /usr/local/lib/python3.11/dist-packages (from pyasn1-modules>=0.2.1->google-auth>=2.15.0->google-generativeai) (0.6.1)\n",
            "Requirement already satisfied: six>=1.5 in /usr/local/lib/python3.11/dist-packages (from python-dateutil>=2.8.2->pandas<3.0,>=1.0->gradio) (1.17.0)\n",
            "Requirement already satisfied: charset-normalizer<4,>=2 in /usr/local/lib/python3.11/dist-packages (from requests>=2.16.0->cachecontrol>=0.12.14->firebase-admin) (3.4.2)\n",
            "Requirement already satisfied: urllib3<3,>=1.21.1 in /usr/local/lib/python3.11/dist-packages (from requests>=2.16.0->cachecontrol>=0.12.14->firebase-admin) (2.4.0)\n",
            "Requirement already satisfied: markdown-it-py>=2.2.0 in /usr/local/lib/python3.11/dist-packages (from rich>=10.11.0->typer<1.0,>=0.12->gradio) (3.0.0)\n",
            "Requirement already satisfied: pygments<3.0.0,>=2.13.0 in /usr/local/lib/python3.11/dist-packages (from rich>=10.11.0->typer<1.0,>=0.12->gradio) (2.19.2)\n",
            "Requirement already satisfied: pycparser in /usr/local/lib/python3.11/dist-packages (from cffi>=1.12->cryptography>=3.4.0->pyjwt[crypto]>=2.5.0->firebase-admin) (2.22)\n",
            "Requirement already satisfied: mdurl~=0.1 in /usr/local/lib/python3.11/dist-packages (from markdown-it-py>=2.2.0->rich>=10.11.0->typer<1.0,>=0.12->gradio) (0.1.2)\n"
          ]
        }
      ],
      "source": [
        "# Étape 1 : Installer les bibliothèques\n",
        "!pip install gradio google-generativeai firebase-admin\n",
        "\n",
        "# Étape 2 : Importer les bibliothèques\n",
        "import gradio as gr\n",
        "import google.generativeai as genai\n",
        "import firebase_admin\n",
        "from firebase_admin import credentials, auth, firestore\n",
        "from google.colab import userdata\n",
        "import json"
      ]
    },
    {
      "cell_type": "code",
      "source": [
        "# Étape 3 : Configurer Firebase\n",
        "try:\n",
        "    # Check if a default app already exists\n",
        "    if not firebase_admin._apps:\n",
        "        firebase_config = {\n",
        "            \"type\": userdata.get('FIREBASE_TYPE'),\n",
        "            \"project_id\": userdata.get('FIREBASE_PROJECT_ID'),\n",
        "            \"private_key_id\": userdata.get('FIREBASE_PRIVATE_KEY_ID'),\n",
        "            \"private_key\": userdata.get('FIREBASE_PRIVATE_KEY').replace('\\\\n', '\\n'),\n",
        "            \"client_email\": userdata.get('FIREBASE_CLIENT_EMAIL'),\n",
        "            \"client_id\": userdata.get('FIREBASE_CLIENT_ID'),\n",
        "            \"auth_uri\": userdata.get('FIREBASE_AUTH_URI'),\n",
        "            \"token_uri\": userdata.get('FIREBASE_TOKEN_URI'),\n",
        "            \"auth_provider_x509_cert_url\": userdata.get('FIREBASE_AUTH_PROVIDER_X509_CERT_URL'),\n",
        "            \"client_x509_cert_url\": userdata.get('FIREBASE_CLIENT_X509_CERT_URL')\n",
        "        }\n",
        "        cred = credentials.Certificate(firebase_config)\n",
        "        firebase_admin.initialize_app(cred)\n",
        "    db = firestore.client()\n",
        "except userdata.SecretNotFoundError:\n",
        "    print(\"Erreur : Identifiants Firebase non trouvés. Ajoutez les clés dans les Secrets de Colab.\")\n",
        "    firebase_config = None\n",
        "    db = None"
      ],
      "metadata": {
        "id": "UQlXLg9V-sz7"
      },
      "execution_count": 17,
      "outputs": []
    },
    {
      "cell_type": "code",
      "source": [
        "# Étape 4 : Configurer l'API Gemini\n",
        "try:\n",
        "    GEMINI_API_KEY = userdata.get('GEMINI_API_KEY')\n",
        "    genai.configure(api_key=GEMINI_API_KEY)\n",
        "except userdata.SecretNotFoundError:\n",
        "    GEMINI_API_KEY = None\n",
        "    print(\"Erreur : Clé API Gemini non trouvée. Ajoutez 'GEMINI_API_KEY' dans les Secrets de Colab.\")\n"
      ],
      "metadata": {
        "id": "QeA4W4_z9_iA"
      },
      "execution_count": 10,
      "outputs": []
    },
    {
      "cell_type": "code",
      "source": [
        "# Étape 5 : Charger les données des saisons depuis JSON\n",
        "def load_seasons():\n",
        "    try:\n",
        "        with open(\"seasons.json\", \"r\") as file:\n",
        "            return json.load(file)\n",
        "    except FileNotFoundError:\n",
        "        return {\n",
        "            \"seasons\": [\n",
        "                {\"name\": \"Printemps\", \"description\": \"Saison des légumes frais et des plats légers.\"},\n",
        "                {\"name\": \"Été\", \"description\": \"Saison des fruits juteux et des repas rafraîchissants.\"},\n",
        "                {\"name\": \"Automne\", \"description\": \"Saison des récoltes riches et des plats réconfortants.\"},\n",
        "                {\"name\": \"Hiver\", \"description\": \"Saison des soupes chaudes et des plats copieux.\"}\n",
        "            ]\n",
        "        }"
      ],
      "metadata": {
        "id": "OTRlVW45-Gwr"
      },
      "execution_count": 18,
      "outputs": []
    },
    {
      "cell_type": "code",
      "source": [
        "# Étape 6 : Fonctions Firebase\n",
        "def register_user(email, password):\n",
        "    try:\n",
        "        user = auth.create_user(email=email, password=password)\n",
        "        db.collection('users').document(user.uid).set({'email': email, 'preferences': {}})\n",
        "        return f\"Inscription réussie pour {email}.\"\n",
        "    except Exception as e:\n",
        "        return f\"Erreur lors de l'inscription : {str(e)}\"\n",
        "\n",
        "def login_user(email, password):\n",
        "    try:\n",
        "        # Vérification manuelle (Firebase ne fournit pas de méthode directe pour vérifier le mot de passe)\n",
        "        user = auth.get_user_by_email(email)\n",
        "        return user.uid, f\"Connexion réussie pour {email}.\"\n",
        "    except Exception as e:\n",
        "        return None, f\"Erreur lors de la connexion : {str(e)}\"\n",
        "\n",
        "def save_preferences(uid, preferences):\n",
        "    try:\n",
        "        db.collection('users').document(uid).update({'preferences': preferences})\n",
        "        return \"Préférences enregistrées avec succès.\"\n",
        "    except Exception as e:\n",
        "        return f\"Erreur lors de l'enregistrement des préférences : {str(e)}\""
      ],
      "metadata": {
        "id": "fMmHJDF5-KUG"
      },
      "execution_count": 19,
      "outputs": []
    },
    {
      "cell_type": "code",
      "source": [
        "# Étape 7 : Fonction pour les suggestions de plats\n",
        "def get_food_suggestions(season, preferences, uid=None):\n",
        "    if not GEMINI_API_KEY:\n",
        "        return \"Erreur : Clé API Gemini manquante.\"\n",
        "    model = genai.GenerativeModel(\"gemini-1.5-pro\")\n",
        "    prompt = f\"Suggère des plats typiques de la saison {season}. Considère les préférences alimentaires suivantes : {preferences}.\"\n",
        "    try:\n",
        "        response = model.generate_content(prompt)\n",
        "        if uid:\n",
        "            save_preferences(uid, preferences)\n",
        "        return response.text\n",
        "    except Exception as e:\n",
        "        return f\"Erreur API : {str(e)}\""
      ],
      "metadata": {
        "id": "xA_3pxl3-N30"
      },
      "execution_count": 20,
      "outputs": []
    },
    {
      "cell_type": "code",
      "source": [
        "# Étape 8 : Interface Gradio\n",
        "with gr.Blocks(\n",
        "    title=\"Suggestions de plats saisonniers avec Firebase\",\n",
        "    css=\"\"\"\n",
        "        .gradio-container { background-color: #f5f7fa; font-family: 'Segoe UI', Arial, sans-serif; }\n",
        "        h1 { color: #2c3e50; text-align: center; font-size: 2em; margin-bottom: 20px; }\n",
        "        .gr-button { background-color: #28a745; color: white; border-radius: 10px; padding: 10px; }\n",
        "        .gr-button:hover { background-color: #218838; }\n",
        "        .gr-textbox, .gr-dropdown { border-radius: 10px; border: 1px solid #ced4da; padding: 8px; }\n",
        "        .gr-form { background-color: #ffffff; padding: 20px; border-radius: 15px; box-shadow: 0 4px 8px rgba(0,0,0,0.1); }\n",
        "    \"\"\"\n",
        ") as app:\n",
        "    gr.Markdown(\"# Suggestions de plats saisonniers\")\n",
        "\n",
        "    # Section d'authentification\n",
        "    with gr.Tab(\"Connexion / Inscription\"):\n",
        "        gr.Markdown(\"## Connexion ou Inscription\")\n",
        "        email = gr.Textbox(label=\"Adresse e-mail\")\n",
        "        password = gr.Textbox(label=\"Mot de passe\", type=\"password\")\n",
        "        login_btn = gr.Button(\"Se connecter\")\n",
        "        register_btn = gr.Button(\"S'inscrire\")\n",
        "        auth_output = gr.Textbox(label=\"Statut de l'authentification\")\n",
        "        uid_state = gr.State()  # Stocker l'UID de l'utilisateur connecté\n",
        "\n",
        "        login_btn.click(\n",
        "            fn=login_user,\n",
        "            inputs=[email, password],\n",
        "            outputs=[uid_state, auth_output]\n",
        "        )\n",
        "        register_btn.click(\n",
        "            fn=register_user,\n",
        "            inputs=[email, password],\n",
        "            outputs=auth_output\n",
        "        )\n",
        "\n",
        "    # Section des suggestions\n",
        "    with gr.Tab(\"Suggestions de plats\"):\n",
        "        seasons_data = load_seasons()\n",
        "        season_names = [season[\"name\"] for season in seasons_data[\"seasons\"]]\n",
        "        gr.Markdown(\"## Sélectionnez une saison\")\n",
        "        season = gr.Dropdown(choices=season_names, label=\"Saison\")\n",
        "        season_description = gr.Textbox(label=\"Description de la saison\", interactive=False)\n",
        "\n",
        "        def update_season_description(selected_season):\n",
        "            for season_data in seasons_data[\"seasons\"]:\n",
        "                if season_data[\"name\"] == selected_season:\n",
        "                    return season_data[\"description\"]\n",
        "            return \"Saison non trouvée.\"\n",
        "\n",
        "        season.change(fn=update_season_description, inputs=season, outputs=season_description)\n",
        "\n",
        "        preferences = gr.Textbox(label=\"Préférences alimentaires (ex. végétarien, sans gluten)\")\n",
        "        suggest_btn = gr.Button(\"Obtenir des suggestions\")\n",
        "        output = gr.Textbox(label=\"Suggestions de plats\", lines=5)\n",
        "        suggest_btn.click(\n",
        "            fn=get_food_suggestions,\n",
        "            inputs=[season, preferences, uid_state],\n",
        "            outputs=output\n",
        "        )"
      ],
      "metadata": {
        "id": "5f_DXfuC-ROm"
      },
      "execution_count": 21,
      "outputs": []
    },
    {
      "cell_type": "code",
      "source": [
        "# Étape 9 : Instructions pour exécuter\n",
        "app.launch(share=True)\n",
        "# Un lien public sera généré pour accéder à l'interface via Gradio Live\n"
      ],
      "metadata": {
        "colab": {
          "base_uri": "https://localhost:8080/",
          "height": 611
        },
        "id": "mOs-1QMi-Z-q",
        "outputId": "0eed6cf7-e2d6-43bd-9204-578258fbba2e"
      },
      "execution_count": 22,
      "outputs": [
        {
          "output_type": "stream",
          "name": "stdout",
          "text": [
            "Colab notebook detected. To show errors in colab notebook, set debug=True in launch()\n",
            "* Running on public URL: https://2ded37be4723a0ba65.gradio.live\n",
            "\n",
            "This share link expires in 1 week. For free permanent hosting and GPU upgrades, run `gradio deploy` from the terminal in the working directory to deploy to Hugging Face Spaces (https://huggingface.co/spaces)\n"
          ]
        },
        {
          "output_type": "display_data",
          "data": {
            "text/plain": [
              "<IPython.core.display.HTML object>"
            ],
            "text/html": [
              "<div><iframe src=\"https://2ded37be4723a0ba65.gradio.live\" width=\"100%\" height=\"500\" allow=\"autoplay; camera; microphone; clipboard-read; clipboard-write;\" frameborder=\"0\" allowfullscreen></iframe></div>"
            ]
          },
          "metadata": {}
        },
        {
          "output_type": "execute_result",
          "data": {
            "text/plain": []
          },
          "metadata": {},
          "execution_count": 22
        }
      ]
    }
  ]
}